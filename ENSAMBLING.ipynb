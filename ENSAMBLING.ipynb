{
  "nbformat": 4,
  "nbformat_minor": 0,
  "metadata": {
    "colab": {
      "provenance": [],
      "gpuType": "T4"
    },
    "kernelspec": {
      "name": "python3",
      "display_name": "Python 3"
    },
    "language_info": {
      "name": "python"
    },
    "accelerator": "GPU"
  },
  "cells": [
    {
      "cell_type": "markdown",
      "source": [
        "### Mount Google drive and unzip data"
      ],
      "metadata": {
        "id": "CI8eDiiwQK_8"
      }
    },
    {
      "cell_type": "code",
      "source": [
        "from google.colab import drive\n",
        "drive.mount('/content/drive') # mount google drive to /content directory"
      ],
      "metadata": {
        "colab": {
          "base_uri": "https://localhost:8080/"
        },
        "id": "-MN9b3gsQKla",
        "outputId": "8fbf0c77-0468-4844-95cd-d02fe97a196f"
      },
      "execution_count": null,
      "outputs": [
        {
          "output_type": "stream",
          "name": "stdout",
          "text": [
            "Mounted at /content/drive\n"
          ]
        }
      ]
    },
    {
      "cell_type": "code",
      "source": [
        "!pip install keras-cv tensorflow --upgrade"
      ],
      "metadata": {
        "colab": {
          "base_uri": "https://localhost:8080/"
        },
        "id": "QDB-meC7QU8q",
        "outputId": "a39183c4-8acf-4581-9c55-78f0c76d72e4"
      },
      "execution_count": null,
      "outputs": [
        {
          "output_type": "stream",
          "name": "stdout",
          "text": [
            "Collecting keras-cv\n",
            "  Downloading keras_cv-0.6.4-py3-none-any.whl (803 kB)\n",
            "\u001b[2K     \u001b[90m━━━━━━━━━━━━━━━━━━━━━━━━━━━━━━━━━━━━━━━━\u001b[0m \u001b[32m803.1/803.1 kB\u001b[0m \u001b[31m6.8 MB/s\u001b[0m eta \u001b[36m0:00:00\u001b[0m\n",
            "\u001b[?25hRequirement already satisfied: tensorflow in /usr/local/lib/python3.10/dist-packages (2.14.0)\n",
            "Collecting tensorflow\n",
            "  Downloading tensorflow-2.15.0-cp310-cp310-manylinux_2_17_x86_64.manylinux2014_x86_64.whl (475.2 MB)\n",
            "\u001b[2K     \u001b[90m━━━━━━━━━━━━━━━━━━━━━━━━━━━━━━━━━━━━━━━━\u001b[0m \u001b[32m475.2/475.2 MB\u001b[0m \u001b[31m2.4 MB/s\u001b[0m eta \u001b[36m0:00:00\u001b[0m\n",
            "\u001b[?25hRequirement already satisfied: packaging in /usr/local/lib/python3.10/dist-packages (from keras-cv) (23.2)\n",
            "Requirement already satisfied: absl-py in /usr/local/lib/python3.10/dist-packages (from keras-cv) (1.4.0)\n",
            "Requirement already satisfied: regex in /usr/local/lib/python3.10/dist-packages (from keras-cv) (2023.6.3)\n",
            "Requirement already satisfied: tensorflow-datasets in /usr/local/lib/python3.10/dist-packages (from keras-cv) (4.9.3)\n",
            "Collecting keras-core (from keras-cv)\n",
            "  Downloading keras_core-0.1.7-py3-none-any.whl (950 kB)\n",
            "\u001b[2K     \u001b[90m━━━━━━━━━━━━━━━━━━━━━━━━━━━━━━━━━━━━━━━━\u001b[0m \u001b[32m950.8/950.8 kB\u001b[0m \u001b[31m48.7 MB/s\u001b[0m eta \u001b[36m0:00:00\u001b[0m\n",
            "\u001b[?25hRequirement already satisfied: astunparse>=1.6.0 in /usr/local/lib/python3.10/dist-packages (from tensorflow) (1.6.3)\n",
            "Requirement already satisfied: flatbuffers>=23.5.26 in /usr/local/lib/python3.10/dist-packages (from tensorflow) (23.5.26)\n",
            "Requirement already satisfied: gast!=0.5.0,!=0.5.1,!=0.5.2,>=0.2.1 in /usr/local/lib/python3.10/dist-packages (from tensorflow) (0.5.4)\n",
            "Requirement already satisfied: google-pasta>=0.1.1 in /usr/local/lib/python3.10/dist-packages (from tensorflow) (0.2.0)\n",
            "Requirement already satisfied: h5py>=2.9.0 in /usr/local/lib/python3.10/dist-packages (from tensorflow) (3.9.0)\n",
            "Requirement already satisfied: libclang>=13.0.0 in /usr/local/lib/python3.10/dist-packages (from tensorflow) (16.0.6)\n",
            "Requirement already satisfied: ml-dtypes~=0.2.0 in /usr/local/lib/python3.10/dist-packages (from tensorflow) (0.2.0)\n",
            "Requirement already satisfied: numpy<2.0.0,>=1.23.5 in /usr/local/lib/python3.10/dist-packages (from tensorflow) (1.23.5)\n",
            "Requirement already satisfied: opt-einsum>=2.3.2 in /usr/local/lib/python3.10/dist-packages (from tensorflow) (3.3.0)\n",
            "Requirement already satisfied: protobuf!=4.21.0,!=4.21.1,!=4.21.2,!=4.21.3,!=4.21.4,!=4.21.5,<5.0.0dev,>=3.20.3 in /usr/local/lib/python3.10/dist-packages (from tensorflow) (3.20.3)\n",
            "Requirement already satisfied: setuptools in /usr/local/lib/python3.10/dist-packages (from tensorflow) (67.7.2)\n",
            "Requirement already satisfied: six>=1.12.0 in /usr/local/lib/python3.10/dist-packages (from tensorflow) (1.16.0)\n",
            "Requirement already satisfied: termcolor>=1.1.0 in /usr/local/lib/python3.10/dist-packages (from tensorflow) (2.3.0)\n",
            "Requirement already satisfied: typing-extensions>=3.6.6 in /usr/local/lib/python3.10/dist-packages (from tensorflow) (4.5.0)\n",
            "Requirement already satisfied: wrapt<1.15,>=1.11.0 in /usr/local/lib/python3.10/dist-packages (from tensorflow) (1.14.1)\n",
            "Requirement already satisfied: tensorflow-io-gcs-filesystem>=0.23.1 in /usr/local/lib/python3.10/dist-packages (from tensorflow) (0.34.0)\n",
            "Requirement already satisfied: grpcio<2.0,>=1.24.3 in /usr/local/lib/python3.10/dist-packages (from tensorflow) (1.59.2)\n",
            "Collecting tensorboard<2.16,>=2.15 (from tensorflow)\n",
            "  Downloading tensorboard-2.15.1-py3-none-any.whl (5.5 MB)\n",
            "\u001b[2K     \u001b[90m━━━━━━━━━━━━━━━━━━━━━━━━━━━━━━━━━━━━━━━━\u001b[0m \u001b[32m5.5/5.5 MB\u001b[0m \u001b[31m73.2 MB/s\u001b[0m eta \u001b[36m0:00:00\u001b[0m\n",
            "\u001b[?25hCollecting tensorflow-estimator<2.16,>=2.15.0 (from tensorflow)\n",
            "  Downloading tensorflow_estimator-2.15.0-py2.py3-none-any.whl (441 kB)\n",
            "\u001b[2K     \u001b[90m━━━━━━━━━━━━━━━━━━━━━━━━━━━━━━━━━━━━━━━━\u001b[0m \u001b[32m442.0/442.0 kB\u001b[0m \u001b[31m28.2 MB/s\u001b[0m eta \u001b[36m0:00:00\u001b[0m\n",
            "\u001b[?25hCollecting keras<2.16,>=2.15.0 (from tensorflow)\n",
            "  Downloading keras-2.15.0-py3-none-any.whl (1.7 MB)\n",
            "\u001b[2K     \u001b[90m━━━━━━━━━━━━━━━━━━━━━━━━━━━━━━━━━━━━━━━━\u001b[0m \u001b[32m1.7/1.7 MB\u001b[0m \u001b[31m26.0 MB/s\u001b[0m eta \u001b[36m0:00:00\u001b[0m\n",
            "\u001b[?25hRequirement already satisfied: wheel<1.0,>=0.23.0 in /usr/local/lib/python3.10/dist-packages (from astunparse>=1.6.0->tensorflow) (0.41.3)\n",
            "Requirement already satisfied: google-auth<3,>=1.6.3 in /usr/local/lib/python3.10/dist-packages (from tensorboard<2.16,>=2.15->tensorflow) (2.17.3)\n",
            "Requirement already satisfied: google-auth-oauthlib<2,>=0.5 in /usr/local/lib/python3.10/dist-packages (from tensorboard<2.16,>=2.15->tensorflow) (1.0.0)\n",
            "Requirement already satisfied: markdown>=2.6.8 in /usr/local/lib/python3.10/dist-packages (from tensorboard<2.16,>=2.15->tensorflow) (3.5.1)\n",
            "Requirement already satisfied: requests<3,>=2.21.0 in /usr/local/lib/python3.10/dist-packages (from tensorboard<2.16,>=2.15->tensorflow) (2.31.0)\n",
            "Requirement already satisfied: tensorboard-data-server<0.8.0,>=0.7.0 in /usr/local/lib/python3.10/dist-packages (from tensorboard<2.16,>=2.15->tensorflow) (0.7.2)\n",
            "Requirement already satisfied: werkzeug>=1.0.1 in /usr/local/lib/python3.10/dist-packages (from tensorboard<2.16,>=2.15->tensorflow) (3.0.1)\n",
            "Requirement already satisfied: rich in /usr/local/lib/python3.10/dist-packages (from keras-core->keras-cv) (13.7.0)\n",
            "Collecting namex (from keras-core->keras-cv)\n",
            "  Downloading namex-0.0.7-py3-none-any.whl (5.8 kB)\n",
            "Requirement already satisfied: dm-tree in /usr/local/lib/python3.10/dist-packages (from keras-core->keras-cv) (0.1.8)\n",
            "Requirement already satisfied: array-record in /usr/local/lib/python3.10/dist-packages (from tensorflow-datasets->keras-cv) (0.5.0)\n",
            "Requirement already satisfied: click in /usr/local/lib/python3.10/dist-packages (from tensorflow-datasets->keras-cv) (8.1.7)\n",
            "Requirement already satisfied: etils[enp,epath,etree]>=0.9.0 in /usr/local/lib/python3.10/dist-packages (from tensorflow-datasets->keras-cv) (1.5.2)\n",
            "Requirement already satisfied: promise in /usr/local/lib/python3.10/dist-packages (from tensorflow-datasets->keras-cv) (2.3)\n",
            "Requirement already satisfied: psutil in /usr/local/lib/python3.10/dist-packages (from tensorflow-datasets->keras-cv) (5.9.5)\n",
            "Requirement already satisfied: tensorflow-metadata in /usr/local/lib/python3.10/dist-packages (from tensorflow-datasets->keras-cv) (1.14.0)\n",
            "Requirement already satisfied: toml in /usr/local/lib/python3.10/dist-packages (from tensorflow-datasets->keras-cv) (0.10.2)\n",
            "Requirement already satisfied: tqdm in /usr/local/lib/python3.10/dist-packages (from tensorflow-datasets->keras-cv) (4.66.1)\n",
            "Requirement already satisfied: fsspec in /usr/local/lib/python3.10/dist-packages (from etils[enp,epath,etree]>=0.9.0->tensorflow-datasets->keras-cv) (2023.6.0)\n",
            "Requirement already satisfied: importlib_resources in /usr/local/lib/python3.10/dist-packages (from etils[enp,epath,etree]>=0.9.0->tensorflow-datasets->keras-cv) (6.1.1)\n",
            "Requirement already satisfied: zipp in /usr/local/lib/python3.10/dist-packages (from etils[enp,epath,etree]>=0.9.0->tensorflow-datasets->keras-cv) (3.17.0)\n",
            "Requirement already satisfied: cachetools<6.0,>=2.0.0 in /usr/local/lib/python3.10/dist-packages (from google-auth<3,>=1.6.3->tensorboard<2.16,>=2.15->tensorflow) (5.3.2)\n",
            "Requirement already satisfied: pyasn1-modules>=0.2.1 in /usr/local/lib/python3.10/dist-packages (from google-auth<3,>=1.6.3->tensorboard<2.16,>=2.15->tensorflow) (0.3.0)\n",
            "Requirement already satisfied: rsa<5,>=3.1.4 in /usr/local/lib/python3.10/dist-packages (from google-auth<3,>=1.6.3->tensorboard<2.16,>=2.15->tensorflow) (4.9)\n",
            "Requirement already satisfied: requests-oauthlib>=0.7.0 in /usr/local/lib/python3.10/dist-packages (from google-auth-oauthlib<2,>=0.5->tensorboard<2.16,>=2.15->tensorflow) (1.3.1)\n",
            "Requirement already satisfied: charset-normalizer<4,>=2 in /usr/local/lib/python3.10/dist-packages (from requests<3,>=2.21.0->tensorboard<2.16,>=2.15->tensorflow) (3.3.2)\n",
            "Requirement already satisfied: idna<4,>=2.5 in /usr/local/lib/python3.10/dist-packages (from requests<3,>=2.21.0->tensorboard<2.16,>=2.15->tensorflow) (3.4)\n",
            "Requirement already satisfied: urllib3<3,>=1.21.1 in /usr/local/lib/python3.10/dist-packages (from requests<3,>=2.21.0->tensorboard<2.16,>=2.15->tensorflow) (2.0.7)\n",
            "Requirement already satisfied: certifi>=2017.4.17 in /usr/local/lib/python3.10/dist-packages (from requests<3,>=2.21.0->tensorboard<2.16,>=2.15->tensorflow) (2023.7.22)\n",
            "Requirement already satisfied: MarkupSafe>=2.1.1 in /usr/local/lib/python3.10/dist-packages (from werkzeug>=1.0.1->tensorboard<2.16,>=2.15->tensorflow) (2.1.3)\n",
            "Requirement already satisfied: markdown-it-py>=2.2.0 in /usr/local/lib/python3.10/dist-packages (from rich->keras-core->keras-cv) (3.0.0)\n",
            "Requirement already satisfied: pygments<3.0.0,>=2.13.0 in /usr/local/lib/python3.10/dist-packages (from rich->keras-core->keras-cv) (2.16.1)\n",
            "Requirement already satisfied: googleapis-common-protos<2,>=1.52.0 in /usr/local/lib/python3.10/dist-packages (from tensorflow-metadata->tensorflow-datasets->keras-cv) (1.61.0)\n",
            "Requirement already satisfied: mdurl~=0.1 in /usr/local/lib/python3.10/dist-packages (from markdown-it-py>=2.2.0->rich->keras-core->keras-cv) (0.1.2)\n",
            "Requirement already satisfied: pyasn1<0.6.0,>=0.4.6 in /usr/local/lib/python3.10/dist-packages (from pyasn1-modules>=0.2.1->google-auth<3,>=1.6.3->tensorboard<2.16,>=2.15->tensorflow) (0.5.0)\n",
            "Requirement already satisfied: oauthlib>=3.0.0 in /usr/local/lib/python3.10/dist-packages (from requests-oauthlib>=0.7.0->google-auth-oauthlib<2,>=0.5->tensorboard<2.16,>=2.15->tensorflow) (3.2.2)\n",
            "Installing collected packages: namex, tensorflow-estimator, keras, keras-core, tensorboard, tensorflow, keras-cv\n",
            "  Attempting uninstall: tensorflow-estimator\n",
            "    Found existing installation: tensorflow-estimator 2.14.0\n",
            "    Uninstalling tensorflow-estimator-2.14.0:\n",
            "      Successfully uninstalled tensorflow-estimator-2.14.0\n",
            "  Attempting uninstall: keras\n",
            "    Found existing installation: keras 2.14.0\n",
            "    Uninstalling keras-2.14.0:\n",
            "      Successfully uninstalled keras-2.14.0\n",
            "  Attempting uninstall: tensorboard\n",
            "    Found existing installation: tensorboard 2.14.1\n",
            "    Uninstalling tensorboard-2.14.1:\n",
            "      Successfully uninstalled tensorboard-2.14.1\n",
            "  Attempting uninstall: tensorflow\n",
            "    Found existing installation: tensorflow 2.14.0\n",
            "    Uninstalling tensorflow-2.14.0:\n",
            "      Successfully uninstalled tensorflow-2.14.0\n",
            "Successfully installed keras-2.15.0 keras-core-0.1.7 keras-cv-0.6.4 namex-0.0.7 tensorboard-2.15.1 tensorflow-2.15.0 tensorflow-estimator-2.15.0\n"
          ]
        }
      ]
    },
    {
      "cell_type": "code",
      "execution_count": null,
      "metadata": {
        "id": "9ZkO9VtUHLGy"
      },
      "outputs": [],
      "source": [
        "path1 = \"/content/drive/My Drive/Saved Model/Mohammad\"\n",
        "\n",
        "# Models of Mohammad\n",
        "model1 =os.path.join(path1,\"Model1/MobileNet\")\n",
        "model2 = os.path.join(path1,\"Model2/MobileNetV2_2\")\n",
        "model3 = os.path.join(path1,\"Model3/MobileNetV2_3\")\n",
        "model4 = os.path.join(path1,\"Model4/xception\")\n",
        "model5 = os.path.join(path1,\"Model5/EfficientNetB0\")\n",
        "\n",
        "\n",
        "path2 = \"/content/drive/My Drive/Saved Model/Dorsa\"\n",
        "# Models of Dorsa\n",
        "model6 = os.path.join(path2,\"Model1/EfficientNet_Kfold_CrossValidation/Final Results_EfficientNet_KfoldCrossValidation/fold_1/model\")\n",
        "model7 = os.path.join(path2,\"Model1/EfficientNet_Kfold_CrossValidation/Final Results_EfficientNet_KfoldCrossValidation/fold_2/model\")\n",
        "model8 = os.path.join(path2,\"Model1/EfficientNet_Kfold_CrossValidation/Final Results_EfficientNet_KfoldCrossValidation/fold_3/model\")\n",
        "model9 = os.path.join(path2,\"Model1/EfficientNet_Kfold_CrossValidation/Final Results_EfficientNet_KfoldCrossValidation/fold_4/model\")\n",
        "model10 = os.path.join(path2,\"Model1/EfficientNet_Kfold_CrossValidation/Final Results_EfficientNet_KfoldCrossValidation/fold_5/model\")\n",
        "\n",
        "model11 = os.path.join(path2,\"Model2/MobileNet_Kfold_CrossValidation/Final Results_MobileNet_Kfold_CrossValidation/fold_1/model\")\n",
        "model12 = os.path.join(path2,\"Model2/MobileNet_Kfold_CrossValidation/Final Results_MobileNet_Kfold_CrossValidation/fold_2/model\")\n",
        "model13 = os.path.join(path2,\"Model2/MobileNet_Kfold_CrossValidation/Final Results_MobileNet_Kfold_CrossValidation/fold_3/model\")\n",
        "model14 = os.path.join(path2,\"Model2/MobileNet_Kfold_CrossValidation/Final Results_MobileNet_Kfold_CrossValidation/fold_4/model\")\n",
        "model15 = os.path.join(path2,\"Model2/MobileNet_Kfold_CrossValidation/Final Results_MobileNet_Kfold_CrossValidation/fold_5/model\")\n",
        "\n",
        "\n",
        "path2 = \"/content/drive/My Drive/Saved Model/Sara\"\n",
        "# Models of Sara\n",
        "model16 = os.path.join(path2,\"MobileNetV2_2800_resampling/MobileNetV2Bagging_resample0\")\n",
        "model17 = os.path.join(path2,\"EfficientNetB0_2800_resampling/EfficientNetB0Bagging_resample1\")\n",
        "model18 = os.path.join(path2,\"Xception_2800_resampling\")\n",
        "model19 = os.path.join(path2,\"MobileNetV2_version2_2800_resampling\")"
      ]
    },
    {
      "cell_type": "code",
      "source": [
        "models = [model1,model2,model3,model4,model5,model6,\n",
        "          model7,model8,model9,model10,model11,model12,model13,model4,model5,model16,\n",
        "          model17,model18,model19]\n",
        "\n",
        "models = [model2,model5,model5]"
      ],
      "metadata": {
        "id": "iiMKCIWZN2uk"
      },
      "execution_count": null,
      "outputs": []
    },
    {
      "cell_type": "code",
      "source": [
        "type(models[0])"
      ],
      "metadata": {
        "colab": {
          "base_uri": "https://localhost:8080/"
        },
        "id": "KrlIhcVBUIlm",
        "outputId": "6916178d-8958-4f05-e20a-8d5bbc723393"
      },
      "execution_count": null,
      "outputs": [
        {
          "output_type": "execute_result",
          "data": {
            "text/plain": [
              "str"
            ]
          },
          "metadata": {},
          "execution_count": 82
        }
      ]
    },
    {
      "cell_type": "markdown",
      "source": [
        "### 4-Set first parameters of tensorflow"
      ],
      "metadata": {
        "id": "bHAhpMTWQm5j"
      }
    },
    {
      "cell_type": "code",
      "source": [
        "\n",
        "# Import tensorflow\n",
        "tf.autograph.set_verbosity(0)\n",
        "tf.get_logger().setLevel(logging.ERROR)\n",
        "tf.compat.v1.logging.set_verbosity(tf.compat.v1.logging.ERROR)\n",
        "tf.random.set_seed(seed)\n",
        "tf.compat.v1.set_random_seed(seed)\n",
        "print(\"tensorflow_version\",tf.__version__)\n",
        "\n",
        "\n"
      ],
      "metadata": {
        "colab": {
          "base_uri": "https://localhost:8080/"
        },
        "id": "rmHvWKsqQJPH",
        "outputId": "40770459-8e48-4ea4-a625-3214109f1abb"
      },
      "execution_count": null,
      "outputs": [
        {
          "output_type": "stream",
          "name": "stdout",
          "text": [
            "tensorflow_version 2.15.0\n"
          ]
        }
      ]
    },
    {
      "cell_type": "markdown",
      "source": [
        "### 5-Load dataset"
      ],
      "metadata": {
        "id": "0vkDX4LfQwGo"
      }
    },
    {
      "cell_type": "code",
      "source": [
        "\n",
        "loaded_data = np.load(\"/content/drive/MyDrive/Colab Notebooks/AN2DL-POLIMI/HW#1/Dataset/clean_data.npz\")\n",
        "training_x_set = loaded_data['training_set_x']\n",
        "training_y_set =loaded_data['training_set_y']\n",
        "x_test =loaded_data['x_test']\n",
        "y_test =loaded_data['y_test']\n",
        "#Please print shape of your data here\n",
        "print(training_x_set.shape)\n",
        "print(training_y_set.shape)\n",
        "print(x_test.shape)\n",
        "print(y_test.shape)\n"
      ],
      "metadata": {
        "colab": {
          "base_uri": "https://localhost:8080/"
        },
        "id": "7qnLc6NXQuVo",
        "outputId": "63115e31-c3c0-4c1a-f532-2b394f90418f"
      },
      "execution_count": null,
      "outputs": [
        {
          "output_type": "stream",
          "name": "stdout",
          "text": [
            "(4750, 96, 96, 3)\n",
            "(4750,)\n",
            "(100, 96, 96, 3)\n",
            "(100,)\n"
          ]
        }
      ]
    },
    {
      "cell_type": "markdown",
      "source": [
        "## Ensemble Models"
      ],
      "metadata": {
        "id": "OT-pTpafEvCq"
      }
    },
    {
      "cell_type": "markdown",
      "source": [
        "#### Ensemble Model2, Model5, Model15"
      ],
      "metadata": {
        "id": "4UI_l6aqEyg_"
      }
    },
    {
      "cell_type": "code",
      "source": [
        "MobileNetV2_2 = tf.keras.models.load_model(model2)\n",
        "EfficientNetB0 = tf.keras.models.load_model(model5)\n",
        "MobileNetV2_2_KFold = tf.keras.models.load_model(model15)"
      ],
      "metadata": {
        "id": "vwZo2hs2Eu3h"
      },
      "execution_count": null,
      "outputs": []
    },
    {
      "cell_type": "markdown",
      "source": [
        "### preprocess according to models to be ensembled"
      ],
      "metadata": {
        "id": "-kKi6G0vGd79"
      }
    },
    {
      "cell_type": "code",
      "source": [
        "x_test1 = x_test.copy()\n",
        "x_test1 = tf.keras.applications.mobilenet_v2.preprocess_input(x_test1)\n",
        "\n",
        "x_test2 = x_test.copy()\n",
        "x_test2 = tf.keras.applications.efficientnet.preprocess_input(x_test2)\n",
        "\n",
        "x_test3 = x_test.copy()\n",
        "x_test3 = tf.keras.applications.mobilenet_v2.preprocess_input(x_test3)"
      ],
      "metadata": {
        "id": "8XztA_iNEu0-"
      },
      "execution_count": null,
      "outputs": []
    },
    {
      "cell_type": "markdown",
      "source": [
        "### Method-1 of ensembling and predicting output"
      ],
      "metadata": {
        "id": "IlpdBXJMKOyg"
      }
    },
    {
      "cell_type": "code",
      "source": [
        "# Make predictions using each model\n",
        "preds1 = MobileNetV2_2.predict(x_test1)\n",
        "preds2 = EfficientNetB0.predict(x_test2)\n",
        "preds3 = MobileNetV2_2_KFold.predict(x_test3)\n",
        "\n",
        "# Combine predictions using max voting\n",
        "final_preds = np.argmax(preds1 + preds2 + preds3, axis=1)"
      ],
      "metadata": {
        "colab": {
          "base_uri": "https://localhost:8080/"
        },
        "id": "UzwUEiGNEuy3",
        "outputId": "c80815a8-c379-4253-a321-954966c9c07b"
      },
      "execution_count": null,
      "outputs": [
        {
          "output_type": "stream",
          "name": "stdout",
          "text": [
            "4/4 [==============================] - 2s 166ms/step\n",
            "4/4 [==============================] - 4s 353ms/step\n",
            "4/4 [==============================] - 2s 187ms/step\n"
          ]
        }
      ]
    },
    {
      "cell_type": "code",
      "source": [
        "acc = 0\n",
        "for i in range(len(final_preds)):\n",
        "  if y_test[i] == final_preds[i]:\n",
        "    acc += 1\n",
        "\n",
        "print(acc*100/len(y_test))"
      ],
      "metadata": {
        "colab": {
          "base_uri": "https://localhost:8080/"
        },
        "id": "Vz6Ho1-lEuww",
        "outputId": "aa54e946-da8a-4a0e-8e1b-cebc0921025d"
      },
      "execution_count": null,
      "outputs": [
        {
          "output_type": "stream",
          "name": "stdout",
          "text": [
            "79.0\n"
          ]
        }
      ]
    },
    {
      "cell_type": "markdown",
      "source": [
        "### Method-2 of ensembling and predicting output"
      ],
      "metadata": {
        "id": "YF3M8tMlKWlS"
      }
    },
    {
      "cell_type": "code",
      "source": [
        "# Make predictions using each model\n",
        "preds1 = MobileNetV2_2.predict(x_test1)\n",
        "preds2 = EfficientNetB0.predict(x_test2)\n",
        "preds3 = MobileNetV2_2_KFold.predict(x_test3)\n",
        "\n",
        "preds = [preds1, preds2, preds3]\n",
        "\n",
        "# Combine predictions using max voting\n",
        "final_preds = np.argmax(np.sum(preds, axis=0), axis=1)"
      ],
      "metadata": {
        "colab": {
          "base_uri": "https://localhost:8080/"
        },
        "outputId": "731a8ec2-4bfe-4d53-9a90-db67a30121c7",
        "id": "PjSgAyapKWlf"
      },
      "execution_count": null,
      "outputs": [
        {
          "output_type": "stream",
          "name": "stdout",
          "text": [
            "4/4 [==============================] - 1s 256ms/step\n",
            "4/4 [==============================] - 2s 404ms/step\n",
            "4/4 [==============================] - 1s 107ms/step\n"
          ]
        }
      ]
    },
    {
      "cell_type": "code",
      "source": [
        "acc = 0\n",
        "for i in range(len(final_preds)):\n",
        "  if y_test[i] == final_preds[i]:\n",
        "    acc += 1\n",
        "\n",
        "print(acc*100/len(y_test))"
      ],
      "metadata": {
        "colab": {
          "base_uri": "https://localhost:8080/"
        },
        "outputId": "2238ee49-40fa-498a-8a84-ba124eddfb73",
        "id": "tWkf9pNvKWlg"
      },
      "execution_count": null,
      "outputs": [
        {
          "output_type": "stream",
          "name": "stdout",
          "text": [
            "79.0\n"
          ]
        }
      ]
    },
    {
      "cell_type": "code",
      "source": [],
      "metadata": {
        "id": "L76iGEpvMDpu"
      },
      "execution_count": null,
      "outputs": []
    },
    {
      "cell_type": "markdown",
      "source": [
        "#### Ensemble Model2, Model5, Model8, Model15"
      ],
      "metadata": {
        "id": "xlx9UfkLMDvq"
      }
    },
    {
      "cell_type": "code",
      "source": [
        "MobileNetV2_2 = tf.keras.models.load_model(model2)\n",
        "EfficientNetB0 = tf.keras.models.load_model(model5)\n",
        "EfficientNetB0_KFold = tf.keras.models.load_model(model8)\n",
        "MobileNetV2_2_KFold = tf.keras.models.load_model(model15)"
      ],
      "metadata": {
        "id": "UYKzX-vRMDvr"
      },
      "execution_count": null,
      "outputs": []
    },
    {
      "cell_type": "markdown",
      "source": [
        "### preprocess according to models to be ensembled"
      ],
      "metadata": {
        "id": "XDH-y87aMDvr"
      }
    },
    {
      "cell_type": "code",
      "source": [
        "x_test1 = x_test.copy()\n",
        "x_test1 = tf.keras.applications.mobilenet_v2.preprocess_input(x_test1)\n",
        "\n",
        "x_test2 = x_test.copy()\n",
        "x_test2 = tf.keras.applications.efficientnet.preprocess_input(x_test2)\n",
        "\n",
        "x_test3 = x_test.copy()\n",
        "x_test3 = tf.keras.applications.efficientnet.preprocess_input(x_test3)\n",
        "\n",
        "x_test4 = x_test.copy()\n",
        "x_test4 = tf.keras.applications.mobilenet_v2.preprocess_input(x_test4)"
      ],
      "metadata": {
        "id": "b9rIAaKZMDvr"
      },
      "execution_count": null,
      "outputs": []
    },
    {
      "cell_type": "markdown",
      "source": [
        "### Method-1 of ensembling and predicting output"
      ],
      "metadata": {
        "id": "37RQCK_CMDvr"
      }
    },
    {
      "cell_type": "code",
      "source": [
        "# Make predictions using each model\n",
        "preds1 = MobileNetV2_2.predict(x_test1)\n",
        "preds2 = EfficientNetB0.predict(x_test2)\n",
        "preds3 = EfficientNetB0_KFold.predict(x_test3)\n",
        "preds4 = MobileNetV2_2_KFold.predict(x_test4)\n",
        "\n",
        "# Combine predictions using max voting\n",
        "final_preds = np.argmax(preds1 + preds2 + preds3 + preds4, axis=1)"
      ],
      "metadata": {
        "colab": {
          "base_uri": "https://localhost:8080/"
        },
        "outputId": "5fe162dc-6dcf-4f76-ed7a-170338b3d2fa",
        "id": "CF516BqzMDvs"
      },
      "execution_count": null,
      "outputs": [
        {
          "output_type": "stream",
          "name": "stdout",
          "text": [
            "4/4 [==============================] - 1s 194ms/step\n",
            "4/4 [==============================] - 2s 378ms/step\n",
            "4/4 [==============================] - 3s 235ms/step\n",
            "4/4 [==============================] - 1s 109ms/step\n"
          ]
        }
      ]
    },
    {
      "cell_type": "code",
      "source": [
        "acc = 0\n",
        "for i in range(len(final_preds)):\n",
        "  if y_test[i] == final_preds[i]:\n",
        "    acc += 1\n",
        "\n",
        "print(acc*100/len(y_test))"
      ],
      "metadata": {
        "colab": {
          "base_uri": "https://localhost:8080/"
        },
        "outputId": "ecd887c7-79a0-4600-cf06-82cb883c7194",
        "id": "Ipza_tRIMDvs"
      },
      "execution_count": null,
      "outputs": [
        {
          "output_type": "stream",
          "name": "stdout",
          "text": [
            "79.0\n"
          ]
        }
      ]
    },
    {
      "cell_type": "code",
      "source": [],
      "metadata": {
        "id": "qIIv32iENODU"
      },
      "execution_count": null,
      "outputs": []
    },
    {
      "cell_type": "markdown",
      "source": [
        "#### Ensemble Model2, Model5, Model8, Model15, Model17"
      ],
      "metadata": {
        "id": "ad_LKLJSNQ0x"
      }
    },
    {
      "cell_type": "code",
      "source": [
        "MobileNetV2_2 = tf.keras.models.load_model(model2)\n",
        "EfficientNetB0 = tf.keras.models.load_model(model5)\n",
        "EfficientNetB0_KFold = tf.keras.models.load_model(model8)\n",
        "MobileNetV2_2_KFold = tf.keras.models.load_model(model15)\n",
        "\n"
      ],
      "metadata": {
        "id": "fZa_i8CTNQ00"
      },
      "execution_count": null,
      "outputs": []
    },
    {
      "cell_type": "markdown",
      "source": [
        "### preprocess according to models to be ensembled"
      ],
      "metadata": {
        "id": "mPdrrp3ANQ01"
      }
    },
    {
      "cell_type": "code",
      "source": [
        "x_test1 = x_test.copy()\n",
        "x_test1 = tf.keras.applications.mobilenet_v2.preprocess_input(x_test1)\n",
        "\n",
        "x_test2 = x_test.copy()\n",
        "x_test2 = tf.keras.applications.efficientnet.preprocess_input(x_test2)\n",
        "\n",
        "x_test3 = x_test.copy()\n",
        "x_test3 = tf.keras.applications.efficientnet.preprocess_input(x_test3)\n",
        "\n",
        "x_test4 = x_test.copy()\n",
        "x_test4 = tf.keras.applications.mobilenet_v2.preprocess_input(x_test4)\n",
        "\n",
        "x_test5 = x_test.copy()\n",
        "x_test5 = tf.keras.applications.efficientnet.preprocess_input(x_test5)"
      ],
      "metadata": {
        "id": "wM9mvMQzNQ02"
      },
      "execution_count": null,
      "outputs": []
    },
    {
      "cell_type": "markdown",
      "source": [
        "### Method-1 of ensembling and predicting output"
      ],
      "metadata": {
        "id": "62q-2M4vNQ05"
      }
    },
    {
      "cell_type": "code",
      "source": [
        "# Make predictions using each model\n",
        "preds1 = MobileNetV2_2.predict(x_test1)\n",
        "preds2 = EfficientNetB0.predict(x_test2)\n",
        "preds3 = EfficientNetB0_KFold.predict(x_test3)\n",
        "preds4 = MobileNetV2_2_KFold.predict(x_test4)\n",
        "preds5 = EfficientNetB0Bagging_resample1.predict(x_test5)\n",
        "\n",
        "# Combine predictions using max voting\n",
        "final_preds = np.argmax(preds1 + preds2 + preds3 + preds4 + preds5, axis=1)"
      ],
      "metadata": {
        "colab": {
          "base_uri": "https://localhost:8080/"
        },
        "outputId": "cfaab0ba-7471-4a5d-b57f-f33b336f8a40",
        "id": "V4fFHZ7QNQ06"
      },
      "execution_count": null,
      "outputs": [
        {
          "output_type": "stream",
          "name": "stdout",
          "text": [
            "4/4 [==============================] - 1s 318ms/step\n",
            "4/4 [==============================] - 2s 370ms/step\n",
            "4/4 [==============================] - 2s 357ms/step\n",
            "4/4 [==============================] - 1s 191ms/step\n",
            "4/4 [==============================] - 2s 346ms/step\n"
          ]
        }
      ]
    },
    {
      "cell_type": "code",
      "source": [
        "acc = 0\n",
        "for i in range(len(final_preds)):\n",
        "  if y_test[i] == final_preds[i]:\n",
        "    acc += 1\n",
        "\n",
        "print(acc*100/len(y_test))"
      ],
      "metadata": {
        "colab": {
          "base_uri": "https://localhost:8080/"
        },
        "outputId": "be32ab4d-e9e7-4ad9-8bff-1ec3eec206ed",
        "id": "6uCL0WP_NQ08"
      },
      "execution_count": null,
      "outputs": [
        {
          "output_type": "stream",
          "name": "stdout",
          "text": [
            "78.0\n"
          ]
        }
      ]
    },
    {
      "cell_type": "markdown",
      "source": [
        "#### Ensemble Model2, Model5, Model8, Model13"
      ],
      "metadata": {
        "id": "2HQGdKWfNsYO"
      }
    },
    {
      "cell_type": "code",
      "source": [
        "MobileNetV2_2 = tf.keras.models.load_model(model2)\n",
        "EfficientNetB0 = tf.keras.models.load_model(model5)\n",
        "EfficientNetB0_KFold = tf.keras.models.load_model(model8)\n",
        "MobileNetV2_2_KFold = tf.keras.models.load_model(model13)"
      ],
      "metadata": {
        "id": "Zkvun6ZNNsYc"
      },
      "execution_count": null,
      "outputs": []
    },
    {
      "cell_type": "markdown",
      "source": [
        "### preprocess according to models to be ensembled"
      ],
      "metadata": {
        "id": "fWkAVVErNsYc"
      }
    },
    {
      "cell_type": "code",
      "source": [
        "x_test1 = x_test.copy()\n",
        "x_test1 = tf.keras.applications.mobilenet_v2.preprocess_input(x_test1)\n",
        "\n",
        "x_test2 = x_test.copy()\n",
        "x_test2 = tf.keras.applications.efficientnet.preprocess_input(x_test2)\n",
        "\n",
        "x_test3 = x_test.copy()\n",
        "x_test3 = tf.keras.applications.efficientnet.preprocess_input(x_test3)\n",
        "\n",
        "x_test4 = x_test.copy()\n",
        "x_test4 = tf.keras.applications.mobilenet_v2.preprocess_input(x_test4)"
      ],
      "metadata": {
        "id": "soMzcgrcNsYc"
      },
      "execution_count": null,
      "outputs": []
    },
    {
      "cell_type": "markdown",
      "source": [
        "### Method-1 of ensembling and predicting output"
      ],
      "metadata": {
        "id": "lSVP0X5JNsYc"
      }
    },
    {
      "cell_type": "code",
      "source": [
        "# Make predictions using each model\n",
        "preds1 = MobileNetV2_2.predict(x_test1)\n",
        "preds2 = EfficientNetB0.predict(x_test2)\n",
        "preds3 = EfficientNetB0_KFold.predict(x_test3)\n",
        "preds4 = MobileNetV2_2_KFold.predict(x_test4)\n",
        "\n",
        "# Combine predictions using max voting\n",
        "final_preds = np.argmax(preds1 + preds2 + preds3 + preds4, axis=1)"
      ],
      "metadata": {
        "colab": {
          "base_uri": "https://localhost:8080/"
        },
        "outputId": "e8996f92-7f73-48ff-ff2d-6e8419664f47",
        "id": "znx442UNNsYd"
      },
      "execution_count": null,
      "outputs": [
        {
          "output_type": "stream",
          "name": "stdout",
          "text": [
            "4/4 [==============================] - 2s 125ms/step\n",
            "4/4 [==============================] - 5s 386ms/step\n",
            "4/4 [==============================] - 5s 373ms/step\n",
            "4/4 [==============================] - 2s 121ms/step\n"
          ]
        }
      ]
    },
    {
      "cell_type": "code",
      "source": [
        "acc = 0\n",
        "for i in range(len(final_preds)):\n",
        "  if y_test[i] == final_preds[i]:\n",
        "    acc += 1\n",
        "\n",
        "print(acc*100/len(y_test))"
      ],
      "metadata": {
        "colab": {
          "base_uri": "https://localhost:8080/"
        },
        "outputId": "a459627b-b335-4858-a9b6-3d7f8ab1acc5",
        "id": "ein2XLHRNsYd"
      },
      "execution_count": null,
      "outputs": [
        {
          "output_type": "stream",
          "name": "stdout",
          "text": [
            "80.0\n"
          ]
        }
      ]
    },
    {
      "cell_type": "code",
      "source": [],
      "metadata": {
        "id": "-hmcS4UlNsYd"
      },
      "execution_count": null,
      "outputs": []
    },
    {
      "cell_type": "markdown",
      "source": [
        "#### Ensemble Model1, Model2, Model5, Model8, Model13"
      ],
      "metadata": {
        "id": "uMiG0Xy4OpY3"
      }
    },
    {
      "cell_type": "code",
      "source": [
        "MobileNet = tf.keras.models.load_model(model1)\n",
        "MobileNetV2_2 = tf.keras.models.load_model(model2)\n",
        "EfficientNetB0 = tf.keras.models.load_model(model5)\n",
        "EfficientNetB0_KFold = tf.keras.models.load_model(model8)\n",
        "MobileNetV2_2_KFold = tf.keras.models.load_model(model13)"
      ],
      "metadata": {
        "id": "PprKIsxiOpZV"
      },
      "execution_count": null,
      "outputs": []
    },
    {
      "cell_type": "markdown",
      "source": [
        "### preprocess according to models to be ensembled"
      ],
      "metadata": {
        "id": "_rj2s0_YOpZW"
      }
    },
    {
      "cell_type": "code",
      "source": [
        "x_test0 = x_test.copy()\n",
        "x_test0 = tf.keras.applications.mobilenet.preprocess_input(x_test0)\n",
        "\n",
        "x_test1 = x_test.copy()\n",
        "x_test1 = tf.keras.applications.mobilenet_v2.preprocess_input(x_test1)\n",
        "\n",
        "x_test2 = x_test.copy()\n",
        "x_test2 = tf.keras.applications.efficientnet.preprocess_input(x_test2)\n",
        "\n",
        "x_test3 = x_test.copy()\n",
        "x_test3 = tf.keras.applications.efficientnet.preprocess_input(x_test3)\n",
        "\n",
        "x_test4 = x_test.copy()\n",
        "x_test4 = tf.keras.applications.mobilenet_v2.preprocess_input(x_test4)"
      ],
      "metadata": {
        "id": "wObnduohOpZW"
      },
      "execution_count": null,
      "outputs": []
    },
    {
      "cell_type": "markdown",
      "source": [
        "### Method-1 of ensembling and predicting output"
      ],
      "metadata": {
        "id": "Sz6WTD4bOpZX"
      }
    },
    {
      "cell_type": "code",
      "source": [
        "# Make predictions using each model\n",
        "preds0 = MobileNet.predict(x_test0)\n",
        "preds1 = MobileNetV2_2.predict(x_test1)\n",
        "preds2 = EfficientNetB0.predict(x_test2)\n",
        "preds3 = EfficientNetB0_KFold.predict(x_test3)\n",
        "preds4 = MobileNetV2_2_KFold.predict(x_test4)\n",
        "\n",
        "# Combine predictions using max voting\n",
        "final_preds = np.argmax(preds0 + preds1 + preds2 + preds3 + preds4, axis=1)"
      ],
      "metadata": {
        "id": "9Twj9odbOpZX"
      },
      "execution_count": null,
      "outputs": []
    },
    {
      "cell_type": "code",
      "source": [
        "acc = 0\n",
        "for i in range(len(final_preds)):\n",
        "  if y_test[i] == final_preds[i]:\n",
        "    acc += 1\n",
        "\n",
        "print(acc*100/len(y_test))"
      ],
      "metadata": {
        "id": "fPt7onebOpZX"
      },
      "execution_count": null,
      "outputs": []
    },
    {
      "cell_type": "code",
      "source": [],
      "metadata": {
        "id": "1ECD5cOrOpZY"
      },
      "execution_count": null,
      "outputs": []
    },
    {
      "cell_type": "markdown",
      "source": [
        "#### Ensemble Model2, Model5, Model8, Model17"
      ],
      "metadata": {
        "id": "FQv8xq60QojX"
      }
    },
    {
      "cell_type": "code",
      "source": [
        "MobileNetV2_2 = tf.keras.models.load_model(model2)\n",
        "EfficientNetB0 = tf.keras.models.load_model(model5)\n",
        "EfficientNetB0_KFold = tf.keras.models.load_model(model8)\n",
        "EfficientNetB0Bagging_resample1 = tf.keras.models.load_model(model17)"
      ],
      "metadata": {
        "id": "bX_YAvMoQojk"
      },
      "execution_count": null,
      "outputs": []
    },
    {
      "cell_type": "markdown",
      "source": [
        "### preprocess according to models to be ensembled"
      ],
      "metadata": {
        "id": "r-zigrwhQojl"
      }
    },
    {
      "cell_type": "code",
      "source": [
        "x_test1 = x_test.copy()\n",
        "x_test1 = tf.keras.applications.mobilenet_v2.preprocess_input(x_test1)\n",
        "\n",
        "x_test2 = x_test.copy()\n",
        "x_test2 = tf.keras.applications.efficientnet.preprocess_input(x_test2)\n",
        "\n",
        "x_test3 = x_test.copy()\n",
        "x_test3 = tf.keras.applications.efficientnet.preprocess_input(x_test3)\n",
        "\n",
        "x_test4 = x_test.copy()\n",
        "x_test4 = tf.keras.applications.efficientnet.preprocess_input(x_test4)"
      ],
      "metadata": {
        "id": "746YkxQsQojl"
      },
      "execution_count": null,
      "outputs": []
    },
    {
      "cell_type": "markdown",
      "source": [
        "### Method-1 of ensembling and predicting output"
      ],
      "metadata": {
        "id": "ollbjbigQojl"
      }
    },
    {
      "cell_type": "code",
      "source": [
        "# Make predictions using each model\n",
        "preds1 = MobileNetV2_2.predict(x_test1)\n",
        "preds2 = EfficientNetB0.predict(x_test2)\n",
        "preds3 = EfficientNetB0_KFold.predict(x_test3)\n",
        "preds4 = EfficientNetB0Bagging_resample1.predict(x_test4)\n",
        "\n",
        "# Combine predictions using max voting\n",
        "final_preds = np.argmax(preds1 + preds2 + preds3 + preds4, axis=1)"
      ],
      "metadata": {
        "colab": {
          "base_uri": "https://localhost:8080/"
        },
        "outputId": "0247c136-f7f4-49dc-b36d-9070cc60d5df",
        "id": "k06fFhvRQojm"
      },
      "execution_count": null,
      "outputs": [
        {
          "output_type": "stream",
          "name": "stdout",
          "text": [
            "4/4 [==============================] - 2s 115ms/step\n",
            "4/4 [==============================] - 3s 265ms/step\n",
            "4/4 [==============================] - 3s 272ms/step\n",
            "4/4 [==============================] - 4s 359ms/step\n"
          ]
        }
      ]
    },
    {
      "cell_type": "code",
      "source": [
        "acc = 0\n",
        "for i in range(len(final_preds)):\n",
        "  if y_test[i] == final_preds[i]:\n",
        "    acc += 1\n",
        "\n",
        "print(acc*100/len(y_test))"
      ],
      "metadata": {
        "colab": {
          "base_uri": "https://localhost:8080/"
        },
        "outputId": "cafc7cb7-d551-4b20-bce5-27b6090e3b06",
        "id": "I3YPAIRHQojm"
      },
      "execution_count": null,
      "outputs": [
        {
          "output_type": "stream",
          "name": "stdout",
          "text": [
            "78.0\n"
          ]
        }
      ]
    },
    {
      "cell_type": "code",
      "source": [],
      "metadata": {
        "id": "fY3hTO4YQojn"
      },
      "execution_count": null,
      "outputs": []
    }
  ]
}